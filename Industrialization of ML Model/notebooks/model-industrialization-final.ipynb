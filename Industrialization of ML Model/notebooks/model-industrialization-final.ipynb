{
 "cells": [
  {
   "cell_type": "code",
   "execution_count": 21,
   "metadata": {},
   "outputs": [
    {
     "name": "stdout",
     "output_type": "stream",
     "text": [
      "The autoreload extension is already loaded. To reload it, use:\n",
      "  %reload_ext autoreload\n"
     ]
    }
   ],
   "source": [
    "%load_ext autoreload\n",
    "%autoreload 2\n",
    "import sys\n",
    "import pandas as pd\n",
    "import numpy as np\n",
    "from os.path import dirname, abspath\n",
    "\n",
    "d = dirname(dirname(abspath('__file__')))\n",
    "sys.path.append(d)\n"
   ]
  },
  {
   "cell_type": "code",
   "execution_count": 22,
   "metadata": {},
   "outputs": [],
   "source": [
    "\n",
    "\n",
    "from house_prices.train import build_model\n",
    "from house_prices.inference import make_predictions"
   ]
  },
  {
   "cell_type": "code",
   "execution_count": 23,
   "metadata": {},
   "outputs": [
    {
     "name": "stdout",
     "output_type": "stream",
     "text": [
      "RMSE\n",
      "77557.83637943951\n"
     ]
    }
   ],
   "source": [
    "file_path = 'C:\\\\Users\\\\Waleed Satti\\\\dsp-Waleed-Satti\\\\data\\\\train.csv'\n",
    "training_data_df = pd.read_csv(file_path, index_col=0)\n",
    "model_performance_dict = build_model(training_data_df)\n",
    "print(\"RMSE\")\n",
    "print(model_performance_dict)"
   ]
  },
  {
   "cell_type": "code",
   "execution_count": 24,
   "metadata": {},
   "outputs": [
    {
     "name": "stdout",
     "output_type": "stream",
     "text": [
      "[174522.64644783 208601.10921001 210572.63139756 ... 189254.68855094\n",
      " 168084.4495257  168330.59686134]\n"
     ]
    }
   ],
   "source": [
    "file_test_path = 'C:\\\\Users\\\\Waleed Satti\\\\dsp-Waleed-Satti\\\\data\\\\test.csv'\n",
    "user_data_df = pd.read_csv(file_test_path, index_col=0)\n",
    "predictions = make_predictions(user_data_df)\n",
    "print(predictions)"
   ]
  }
 ],
 "metadata": {
  "kernelspec": {
   "display_name": "Python 3 (ipykernel)",
   "language": "python",
   "name": "python3"
  },
  "language_info": {
   "codemirror_mode": {
    "name": "ipython",
    "version": 3
   },
   "file_extension": ".py",
   "mimetype": "text/x-python",
   "name": "python",
   "nbconvert_exporter": "python",
   "pygments_lexer": "ipython3",
   "version": "3.11.5"
  }
 },
 "nbformat": 4,
 "nbformat_minor": 4
}
